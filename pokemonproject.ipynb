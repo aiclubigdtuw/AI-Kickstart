{
  "nbformat": 4,
  "nbformat_minor": 0,
  "metadata": {
    "colab": {
      "name": "pokemonproject.ipynb",
      "provenance": [],
      "authorship_tag": "ABX9TyO27Q7idBk2s91Dz4C0ZIsh",
      "include_colab_link": true
    },
    "kernelspec": {
      "name": "python3",
      "display_name": "Python 3"
    },
    "language_info": {
      "name": "python"
    }
  },
  "cells": [
    {
      "cell_type": "markdown",
      "metadata": {
        "id": "view-in-github",
        "colab_type": "text"
      },
      "source": [
        "<a href=\"https://colab.research.google.com/github/deepalii05/AI-Kickstart/blob/main/pokemonproject.ipynb\" target=\"_parent\"><img src=\"https://colab.research.google.com/assets/colab-badge.svg\" alt=\"Open In Colab\"/></a>"
      ]
    },
    {
      "cell_type": "code",
      "metadata": {
        "id": "fZovajg0Uz4W"
      },
      "source": [
        "import numpy as np\n",
        "import pandas as pd\n",
        "import matplotlib.pyplot as plt"
      ],
      "execution_count": 1,
      "outputs": []
    },
    {
      "cell_type": "code",
      "metadata": {
        "id": "0NylYejzVLZ2"
      },
      "source": [
        "pokemon= pd.read_csv(\"pokemon.csv\")"
      ],
      "execution_count": null,
      "outputs": []
    },
    {
      "cell_type": "code",
      "metadata": {
        "id": "LdmMlbPvVSvN"
      },
      "source": [
        "pokemon.shape"
      ],
      "execution_count": null,
      "outputs": []
    },
    {
      "cell_type": "code",
      "metadata": {
        "id": "dbkSUIKrVTRA"
      },
      "source": [
        "pokemon.head"
      ],
      "execution_count": null,
      "outputs": []
    },
    {
      "cell_type": "code",
      "metadata": {
        "id": "YJKY8olQVTd1"
      },
      "source": [
        "pokemon.isnull().sum()"
      ],
      "execution_count": null,
      "outputs": []
    },
    {
      "cell_type": "code",
      "metadata": {
        "id": "DpoP3dVEVTpW"
      },
      "source": [
        "x = pokemon.drop(columns=['target'], inplace=False).values\n",
        "y=pokemon['target'].value"
      ],
      "execution_count": null,
      "outputs": []
    },
    {
      "cell_type": "code",
      "metadata": {
        "id": "p3Spc0YQVT0n"
      },
      "source": [
        "y.shape"
      ],
      "execution_count": null,
      "outputs": []
    },
    {
      "cell_type": "code",
      "metadata": {
        "id": "uCA51-CkVT-B"
      },
      "source": [
        "x.shape"
      ],
      "execution_count": null,
      "outputs": []
    },
    {
      "cell_type": "code",
      "metadata": {
        "id": "C1PkgdBMVUH1"
      },
      "source": [
        "x[0]"
      ],
      "execution_count": null,
      "outputs": []
    },
    {
      "cell_type": "code",
      "metadata": {
        "id": "pJp2KsPmVUQ-"
      },
      "source": [
        "plt.imshow(X[5].reshape(100,300))"
      ],
      "execution_count": null,
      "outputs": []
    },
    {
      "cell_type": "code",
      "metadata": {
        "id": "nsN3LonZVUab"
      },
      "source": [
        "plt.imshow(X[5].reshape(100,300), cmap=\"gray\")"
      ],
      "execution_count": null,
      "outputs": []
    },
    {
      "cell_type": "code",
      "metadata": {
        "id": "si3xh2UlVUjp"
      },
      "source": [
        "plt.imshow(X[6].reshape(100,300))"
      ],
      "execution_count": null,
      "outputs": []
    },
    {
      "cell_type": "code",
      "metadata": {
        "id": "DTifSkdlVUtc"
      },
      "source": [
        "plt.imshow(X[6].reshape(100,300),cmap=\"gray\")"
      ],
      "execution_count": null,
      "outputs": []
    },
    {
      "cell_type": "code",
      "metadata": {
        "id": "B0-P7tWHVU3J"
      },
      "source": [
        "plt.imshow(X[7].reshape(100,300))"
      ],
      "execution_count": null,
      "outputs": []
    },
    {
      "cell_type": "code",
      "metadata": {
        "id": "0OXvEiDFVU_4"
      },
      "source": [
        "plt.imshow(X[7].reshape(100,300),cmap=\"gray\")"
      ],
      "execution_count": null,
      "outputs": []
    },
    {
      "cell_type": "code",
      "metadata": {
        "id": "KdvXqm0lVVKD"
      },
      "source": [
        "from sklearn.model_selection import train_test_split"
      ],
      "execution_count": null,
      "outputs": []
    },
    {
      "cell_type": "code",
      "metadata": {
        "id": "naKx_lrTVVTM"
      },
      "source": [
        "X_train, X_test, y_train, y_test = train_test_split(X, y, test_size=0.25, random_state=42)"
      ],
      "execution_count": null,
      "outputs": []
    },
    {
      "cell_type": "code",
      "metadata": {
        "id": "GmQ6FgrvVVdi"
      },
      "source": [
        "print( X_train.shape, y_train.shape )"
      ],
      "execution_count": null,
      "outputs": []
    },
    {
      "cell_type": "code",
      "metadata": {
        "id": "snmTeOX3VVmL"
      },
      "source": [
        "print( X_test.shape, y_test.shape)"
      ],
      "execution_count": null,
      "outputs": []
    },
    {
      "cell_type": "code",
      "metadata": {
        "id": "pQH_kZUIVVuT"
      },
      "source": [
        "from sklearn.neighbors import KNeighborsClassifier"
      ],
      "execution_count": null,
      "outputs": []
    },
    {
      "cell_type": "code",
      "metadata": {
        "id": "AlG-FABVVV3L"
      },
      "source": [
        "model = KNeighborsClassifier(n_neighbors=7)"
      ],
      "execution_count": null,
      "outputs": []
    },
    {
      "cell_type": "markdown",
      "metadata": {
        "id": "vyRZsruNXhhp"
      },
      "source": [
        "# MODEL TRAINING"
      ]
    },
    {
      "cell_type": "code",
      "metadata": {
        "id": "XdK98fjsVWBT"
      },
      "source": [
        "model.fit(X_train, y_train)"
      ],
      "execution_count": null,
      "outputs": []
    },
    {
      "cell_type": "code",
      "metadata": {
        "id": "SwSorWj-VWIr"
      },
      "source": [
        "y_pred = model.predict(X_test)"
      ],
      "execution_count": null,
      "outputs": []
    },
    {
      "cell_type": "code",
      "metadata": {
        "id": "0HBxq2RsVWQ-"
      },
      "source": [
        "y_pred"
      ],
      "execution_count": null,
      "outputs": []
    },
    {
      "cell_type": "code",
      "metadata": {
        "id": "Ck79d8ZDVWZe"
      },
      "source": [
        ""
      ],
      "execution_count": null,
      "outputs": []
    },
    {
      "cell_type": "markdown",
      "metadata": {
        "id": "Z2rbcFbQXxaz"
      },
      "source": [
        "# accuracy for the test set\n"
      ]
    },
    {
      "cell_type": "code",
      "metadata": {
        "id": "nZ9jkB6vXzGf"
      },
      "source": [
        "model.score(X_test, y_test)"
      ],
      "execution_count": null,
      "outputs": []
    },
    {
      "cell_type": "code",
      "metadata": {
        "id": "FJYEjwPhYABo"
      },
      "source": [
        ""
      ],
      "execution_count": null,
      "outputs": []
    },
    {
      "cell_type": "markdown",
      "metadata": {
        "id": "bNGRY6sQYCVa"
      },
      "source": [
        "# PREDICTING RANDOM IMAGE"
      ]
    },
    {
      "cell_type": "code",
      "metadata": {
        "id": "qswHoxLfYIZ9"
      },
      "source": [
        "random_img = X_test[25]"
      ],
      "execution_count": null,
      "outputs": []
    },
    {
      "cell_type": "code",
      "metadata": {
        "id": "_3IR0vVzYNuv"
      },
      "source": [
        "plt.imshow(random_img.reshape(100,300), cmap=\"gray\")"
      ],
      "execution_count": null,
      "outputs": []
    },
    {
      "cell_type": "code",
      "metadata": {
        "id": "hdGFZ2mQYNy0"
      },
      "source": [
        "# actual output\n",
        "y_test[25]"
      ],
      "execution_count": null,
      "outputs": []
    },
    {
      "cell_type": "code",
      "metadata": {
        "id": "z1U_ngRUYN46"
      },
      "source": [
        "# model prediction\n",
        "model.predict( [random_img] )"
      ],
      "execution_count": null,
      "outputs": []
    },
    {
      "cell_type": "code",
      "metadata": {
        "id": "NBbw-JZpYh01"
      },
      "source": [
        "i=int(input('Input any value between 0-30'))\n",
        "random_img = X_test[i]\n",
        "plt.imshow(random_img.reshape(100,300), cmap=\"gray\")\n",
        "plt.show()\n",
        "print(\"Actual Label : \",y_test[i])\n",
        "p = model.predict( [random_img] )\n",
        "print(\"Predicted Label : \", p)"
      ],
      "execution_count": null,
      "outputs": []
    },
    {
      "cell_type": "code",
      "metadata": {
        "id": "8NSZq8alYh4b"
      },
      "source": [
        "i=int(input('Input any other value between 0-30'))\n",
        "random_img = X_test[i]\n",
        "plt.imshow(random_img.reshape(100,300), cmap=\"gray\")\n",
        "plt.show()\n",
        "print(\"Actual Label : \",y_test[i])\n",
        "p = model.predict( [random_img] )\n",
        "print(\"Predicted Label : \", p)"
      ],
      "execution_count": null,
      "outputs": []
    },
    {
      "cell_type": "code",
      "metadata": {
        "id": "e5BW2bKXYh7-"
      },
      "source": [
        "i=int(input('Input any other value between 0-30'))\n",
        "random_img = X_test[i]\n",
        "plt.imshow(random_img.reshape(100,300), cmap=\"gray\")\n",
        "plt.show()\n",
        "print(\"Actual Label : \",y_test[i])\n",
        "p = model.predict( [random_img] )\n",
        "print(\"Predicted Label : \", p)"
      ],
      "execution_count": null,
      "outputs": []
    },
    {
      "cell_type": "code",
      "metadata": {
        "id": "SUjwCKJ-Yh_L"
      },
      "source": [
        "i=int(input('Input any other value between 0-30'))\n",
        "random_img = X_test[i]\n",
        "plt.imshow(random_img.reshape(100,300), cmap=\"gray\")\n",
        "plt.show()\n",
        "print(\"Actual Label : \",y_test[i])\n",
        "p = model.predict( [random_img] )\n",
        "print(\"Predicted Label : \", p)"
      ],
      "execution_count": null,
      "outputs": []
    }
  ]
}