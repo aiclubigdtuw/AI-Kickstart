{
  "nbformat": 4,
  "nbformat_minor": 0,
  "metadata": {
    "colab": {
      "name": "Pokemon_AI.ipynb",
      "provenance": [],
      "collapsed_sections": []
    },
    "kernelspec": {
      "name": "python3",
      "display_name": "Python 3"
    },
    "language_info": {
      "name": "python"
    }
  },
  "cells": [
    {
      "cell_type": "code",
      "metadata": {
        "id": "uNFn2_RgKnSh"
      },
      "source": [
        "import numpy as np\n",
        "import pandas as pd\n",
        "import matplotlib.pyplot as plt\n",
        "import seaborn as sns"
      ],
      "execution_count": 2,
      "outputs": []
    },
    {
      "cell_type": "code",
      "metadata": {
        "id": "0NkamiB4K4YA"
      },
      "source": [
        "pokemon = pd.read_csv(\"/content/drive/MyDrive/pokemon.csv\")"
      ],
      "execution_count": 3,
      "outputs": []
    },
    {
      "cell_type": "code",
      "metadata": {
        "colab": {
          "base_uri": "https://localhost:8080/"
        },
        "id": "OXrRzU1TLBUl",
        "outputId": "bf99babf-9364-40db-c641-af750b5bf7cb"
      },
      "source": [
        "pokemon.shape"
      ],
      "execution_count": 4,
      "outputs": [
        {
          "output_type": "execute_result",
          "data": {
            "text/plain": [
              "(304, 30001)"
            ]
          },
          "metadata": {
            "tags": []
          },
          "execution_count": 4
        }
      ]
    },
    {
      "cell_type": "code",
      "metadata": {
        "colab": {
          "base_uri": "https://localhost:8080/",
          "height": 244
        },
        "id": "S2sFxJ6vLTbK",
        "outputId": "30de4a9c-744f-411d-e291-be79c9660caa"
      },
      "source": [
        "pokemon.head()"
      ],
      "execution_count": 5,
      "outputs": [
        {
          "output_type": "execute_result",
          "data": {
            "text/html": [
              "<div>\n",
              "<style scoped>\n",
              "    .dataframe tbody tr th:only-of-type {\n",
              "        vertical-align: middle;\n",
              "    }\n",
              "\n",
              "    .dataframe tbody tr th {\n",
              "        vertical-align: top;\n",
              "    }\n",
              "\n",
              "    .dataframe thead th {\n",
              "        text-align: right;\n",
              "    }\n",
              "</style>\n",
              "<table border=\"1\" class=\"dataframe\">\n",
              "  <thead>\n",
              "    <tr style=\"text-align: right;\">\n",
              "      <th></th>\n",
              "      <th>0</th>\n",
              "      <th>1</th>\n",
              "      <th>2</th>\n",
              "      <th>3</th>\n",
              "      <th>4</th>\n",
              "      <th>5</th>\n",
              "      <th>6</th>\n",
              "      <th>7</th>\n",
              "      <th>8</th>\n",
              "      <th>9</th>\n",
              "      <th>10</th>\n",
              "      <th>11</th>\n",
              "      <th>12</th>\n",
              "      <th>13</th>\n",
              "      <th>14</th>\n",
              "      <th>15</th>\n",
              "      <th>16</th>\n",
              "      <th>17</th>\n",
              "      <th>18</th>\n",
              "      <th>19</th>\n",
              "      <th>20</th>\n",
              "      <th>21</th>\n",
              "      <th>22</th>\n",
              "      <th>23</th>\n",
              "      <th>24</th>\n",
              "      <th>25</th>\n",
              "      <th>26</th>\n",
              "      <th>27</th>\n",
              "      <th>28</th>\n",
              "      <th>29</th>\n",
              "      <th>30</th>\n",
              "      <th>31</th>\n",
              "      <th>32</th>\n",
              "      <th>33</th>\n",
              "      <th>34</th>\n",
              "      <th>35</th>\n",
              "      <th>36</th>\n",
              "      <th>37</th>\n",
              "      <th>38</th>\n",
              "      <th>39</th>\n",
              "      <th>...</th>\n",
              "      <th>29961</th>\n",
              "      <th>29962</th>\n",
              "      <th>29963</th>\n",
              "      <th>29964</th>\n",
              "      <th>29965</th>\n",
              "      <th>29966</th>\n",
              "      <th>29967</th>\n",
              "      <th>29968</th>\n",
              "      <th>29969</th>\n",
              "      <th>29970</th>\n",
              "      <th>29971</th>\n",
              "      <th>29972</th>\n",
              "      <th>29973</th>\n",
              "      <th>29974</th>\n",
              "      <th>29975</th>\n",
              "      <th>29976</th>\n",
              "      <th>29977</th>\n",
              "      <th>29978</th>\n",
              "      <th>29979</th>\n",
              "      <th>29980</th>\n",
              "      <th>29981</th>\n",
              "      <th>29982</th>\n",
              "      <th>29983</th>\n",
              "      <th>29984</th>\n",
              "      <th>29985</th>\n",
              "      <th>29986</th>\n",
              "      <th>29987</th>\n",
              "      <th>29988</th>\n",
              "      <th>29989</th>\n",
              "      <th>29990</th>\n",
              "      <th>29991</th>\n",
              "      <th>29992</th>\n",
              "      <th>29993</th>\n",
              "      <th>29994</th>\n",
              "      <th>29995</th>\n",
              "      <th>29996</th>\n",
              "      <th>29997</th>\n",
              "      <th>29998</th>\n",
              "      <th>29999</th>\n",
              "      <th>target</th>\n",
              "    </tr>\n",
              "  </thead>\n",
              "  <tbody>\n",
              "    <tr>\n",
              "      <th>0</th>\n",
              "      <td>37</td>\n",
              "      <td>106</td>\n",
              "      <td>111</td>\n",
              "      <td>37</td>\n",
              "      <td>106</td>\n",
              "      <td>111</td>\n",
              "      <td>37</td>\n",
              "      <td>106</td>\n",
              "      <td>111</td>\n",
              "      <td>37</td>\n",
              "      <td>106</td>\n",
              "      <td>111</td>\n",
              "      <td>37</td>\n",
              "      <td>106</td>\n",
              "      <td>111</td>\n",
              "      <td>37</td>\n",
              "      <td>106</td>\n",
              "      <td>111</td>\n",
              "      <td>37</td>\n",
              "      <td>106</td>\n",
              "      <td>111</td>\n",
              "      <td>37</td>\n",
              "      <td>106</td>\n",
              "      <td>111</td>\n",
              "      <td>37</td>\n",
              "      <td>106</td>\n",
              "      <td>111</td>\n",
              "      <td>37</td>\n",
              "      <td>106</td>\n",
              "      <td>111</td>\n",
              "      <td>37</td>\n",
              "      <td>106</td>\n",
              "      <td>111</td>\n",
              "      <td>37</td>\n",
              "      <td>106</td>\n",
              "      <td>111</td>\n",
              "      <td>37</td>\n",
              "      <td>106</td>\n",
              "      <td>111</td>\n",
              "      <td>37</td>\n",
              "      <td>...</td>\n",
              "      <td>37</td>\n",
              "      <td>106</td>\n",
              "      <td>111</td>\n",
              "      <td>37</td>\n",
              "      <td>106</td>\n",
              "      <td>111</td>\n",
              "      <td>37</td>\n",
              "      <td>106</td>\n",
              "      <td>111</td>\n",
              "      <td>37</td>\n",
              "      <td>106</td>\n",
              "      <td>111</td>\n",
              "      <td>37</td>\n",
              "      <td>106</td>\n",
              "      <td>111</td>\n",
              "      <td>37</td>\n",
              "      <td>106</td>\n",
              "      <td>111</td>\n",
              "      <td>37</td>\n",
              "      <td>106</td>\n",
              "      <td>111</td>\n",
              "      <td>37</td>\n",
              "      <td>106</td>\n",
              "      <td>111</td>\n",
              "      <td>37</td>\n",
              "      <td>106</td>\n",
              "      <td>111</td>\n",
              "      <td>37</td>\n",
              "      <td>106</td>\n",
              "      <td>111</td>\n",
              "      <td>37</td>\n",
              "      <td>106</td>\n",
              "      <td>111</td>\n",
              "      <td>37</td>\n",
              "      <td>106</td>\n",
              "      <td>111</td>\n",
              "      <td>37</td>\n",
              "      <td>106</td>\n",
              "      <td>111</td>\n",
              "      <td>Charmander</td>\n",
              "    </tr>\n",
              "    <tr>\n",
              "      <th>1</th>\n",
              "      <td>255</td>\n",
              "      <td>255</td>\n",
              "      <td>255</td>\n",
              "      <td>255</td>\n",
              "      <td>255</td>\n",
              "      <td>255</td>\n",
              "      <td>255</td>\n",
              "      <td>255</td>\n",
              "      <td>255</td>\n",
              "      <td>255</td>\n",
              "      <td>255</td>\n",
              "      <td>255</td>\n",
              "      <td>255</td>\n",
              "      <td>255</td>\n",
              "      <td>255</td>\n",
              "      <td>255</td>\n",
              "      <td>255</td>\n",
              "      <td>255</td>\n",
              "      <td>255</td>\n",
              "      <td>255</td>\n",
              "      <td>255</td>\n",
              "      <td>255</td>\n",
              "      <td>255</td>\n",
              "      <td>255</td>\n",
              "      <td>255</td>\n",
              "      <td>255</td>\n",
              "      <td>255</td>\n",
              "      <td>255</td>\n",
              "      <td>255</td>\n",
              "      <td>253</td>\n",
              "      <td>145</td>\n",
              "      <td>12</td>\n",
              "      <td>16</td>\n",
              "      <td>255</td>\n",
              "      <td>255</td>\n",
              "      <td>254</td>\n",
              "      <td>255</td>\n",
              "      <td>255</td>\n",
              "      <td>255</td>\n",
              "      <td>255</td>\n",
              "      <td>...</td>\n",
              "      <td>255</td>\n",
              "      <td>255</td>\n",
              "      <td>255</td>\n",
              "      <td>255</td>\n",
              "      <td>255</td>\n",
              "      <td>255</td>\n",
              "      <td>255</td>\n",
              "      <td>255</td>\n",
              "      <td>255</td>\n",
              "      <td>255</td>\n",
              "      <td>255</td>\n",
              "      <td>255</td>\n",
              "      <td>255</td>\n",
              "      <td>255</td>\n",
              "      <td>255</td>\n",
              "      <td>255</td>\n",
              "      <td>255</td>\n",
              "      <td>255</td>\n",
              "      <td>255</td>\n",
              "      <td>255</td>\n",
              "      <td>255</td>\n",
              "      <td>255</td>\n",
              "      <td>255</td>\n",
              "      <td>255</td>\n",
              "      <td>255</td>\n",
              "      <td>255</td>\n",
              "      <td>255</td>\n",
              "      <td>255</td>\n",
              "      <td>255</td>\n",
              "      <td>255</td>\n",
              "      <td>255</td>\n",
              "      <td>255</td>\n",
              "      <td>255</td>\n",
              "      <td>255</td>\n",
              "      <td>255</td>\n",
              "      <td>255</td>\n",
              "      <td>255</td>\n",
              "      <td>255</td>\n",
              "      <td>255</td>\n",
              "      <td>Charmander</td>\n",
              "    </tr>\n",
              "    <tr>\n",
              "      <th>2</th>\n",
              "      <td>103</td>\n",
              "      <td>244</td>\n",
              "      <td>68</td>\n",
              "      <td>91</td>\n",
              "      <td>234</td>\n",
              "      <td>60</td>\n",
              "      <td>86</td>\n",
              "      <td>226</td>\n",
              "      <td>53</td>\n",
              "      <td>91</td>\n",
              "      <td>232</td>\n",
              "      <td>58</td>\n",
              "      <td>93</td>\n",
              "      <td>230</td>\n",
              "      <td>57</td>\n",
              "      <td>86</td>\n",
              "      <td>225</td>\n",
              "      <td>54</td>\n",
              "      <td>89</td>\n",
              "      <td>227</td>\n",
              "      <td>55</td>\n",
              "      <td>85</td>\n",
              "      <td>224</td>\n",
              "      <td>52</td>\n",
              "      <td>85</td>\n",
              "      <td>224</td>\n",
              "      <td>55</td>\n",
              "      <td>83</td>\n",
              "      <td>227</td>\n",
              "      <td>54</td>\n",
              "      <td>84</td>\n",
              "      <td>223</td>\n",
              "      <td>52</td>\n",
              "      <td>86</td>\n",
              "      <td>224</td>\n",
              "      <td>54</td>\n",
              "      <td>87</td>\n",
              "      <td>227</td>\n",
              "      <td>55</td>\n",
              "      <td>88</td>\n",
              "      <td>...</td>\n",
              "      <td>81</td>\n",
              "      <td>226</td>\n",
              "      <td>57</td>\n",
              "      <td>90</td>\n",
              "      <td>231</td>\n",
              "      <td>57</td>\n",
              "      <td>91</td>\n",
              "      <td>228</td>\n",
              "      <td>55</td>\n",
              "      <td>92</td>\n",
              "      <td>234</td>\n",
              "      <td>57</td>\n",
              "      <td>88</td>\n",
              "      <td>232</td>\n",
              "      <td>57</td>\n",
              "      <td>87</td>\n",
              "      <td>231</td>\n",
              "      <td>56</td>\n",
              "      <td>86</td>\n",
              "      <td>230</td>\n",
              "      <td>57</td>\n",
              "      <td>79</td>\n",
              "      <td>226</td>\n",
              "      <td>63</td>\n",
              "      <td>84</td>\n",
              "      <td>228</td>\n",
              "      <td>57</td>\n",
              "      <td>78</td>\n",
              "      <td>218</td>\n",
              "      <td>51</td>\n",
              "      <td>78</td>\n",
              "      <td>219</td>\n",
              "      <td>57</td>\n",
              "      <td>78</td>\n",
              "      <td>218</td>\n",
              "      <td>53</td>\n",
              "      <td>123</td>\n",
              "      <td>255</td>\n",
              "      <td>74</td>\n",
              "      <td>Pikachu</td>\n",
              "    </tr>\n",
              "    <tr>\n",
              "      <th>3</th>\n",
              "      <td>255</td>\n",
              "      <td>255</td>\n",
              "      <td>255</td>\n",
              "      <td>255</td>\n",
              "      <td>255</td>\n",
              "      <td>255</td>\n",
              "      <td>255</td>\n",
              "      <td>255</td>\n",
              "      <td>255</td>\n",
              "      <td>255</td>\n",
              "      <td>255</td>\n",
              "      <td>255</td>\n",
              "      <td>255</td>\n",
              "      <td>255</td>\n",
              "      <td>255</td>\n",
              "      <td>255</td>\n",
              "      <td>255</td>\n",
              "      <td>255</td>\n",
              "      <td>255</td>\n",
              "      <td>255</td>\n",
              "      <td>255</td>\n",
              "      <td>255</td>\n",
              "      <td>255</td>\n",
              "      <td>255</td>\n",
              "      <td>255</td>\n",
              "      <td>255</td>\n",
              "      <td>255</td>\n",
              "      <td>255</td>\n",
              "      <td>255</td>\n",
              "      <td>255</td>\n",
              "      <td>255</td>\n",
              "      <td>255</td>\n",
              "      <td>255</td>\n",
              "      <td>255</td>\n",
              "      <td>255</td>\n",
              "      <td>255</td>\n",
              "      <td>255</td>\n",
              "      <td>255</td>\n",
              "      <td>255</td>\n",
              "      <td>255</td>\n",
              "      <td>...</td>\n",
              "      <td>255</td>\n",
              "      <td>255</td>\n",
              "      <td>255</td>\n",
              "      <td>255</td>\n",
              "      <td>255</td>\n",
              "      <td>255</td>\n",
              "      <td>255</td>\n",
              "      <td>255</td>\n",
              "      <td>255</td>\n",
              "      <td>255</td>\n",
              "      <td>255</td>\n",
              "      <td>255</td>\n",
              "      <td>255</td>\n",
              "      <td>255</td>\n",
              "      <td>255</td>\n",
              "      <td>255</td>\n",
              "      <td>255</td>\n",
              "      <td>255</td>\n",
              "      <td>255</td>\n",
              "      <td>255</td>\n",
              "      <td>255</td>\n",
              "      <td>255</td>\n",
              "      <td>255</td>\n",
              "      <td>255</td>\n",
              "      <td>255</td>\n",
              "      <td>255</td>\n",
              "      <td>255</td>\n",
              "      <td>255</td>\n",
              "      <td>255</td>\n",
              "      <td>255</td>\n",
              "      <td>255</td>\n",
              "      <td>255</td>\n",
              "      <td>255</td>\n",
              "      <td>255</td>\n",
              "      <td>255</td>\n",
              "      <td>255</td>\n",
              "      <td>255</td>\n",
              "      <td>255</td>\n",
              "      <td>255</td>\n",
              "      <td>Pikachu</td>\n",
              "    </tr>\n",
              "    <tr>\n",
              "      <th>4</th>\n",
              "      <td>0</td>\n",
              "      <td>0</td>\n",
              "      <td>0</td>\n",
              "      <td>0</td>\n",
              "      <td>0</td>\n",
              "      <td>0</td>\n",
              "      <td>0</td>\n",
              "      <td>0</td>\n",
              "      <td>0</td>\n",
              "      <td>0</td>\n",
              "      <td>0</td>\n",
              "      <td>0</td>\n",
              "      <td>0</td>\n",
              "      <td>0</td>\n",
              "      <td>0</td>\n",
              "      <td>0</td>\n",
              "      <td>0</td>\n",
              "      <td>0</td>\n",
              "      <td>0</td>\n",
              "      <td>0</td>\n",
              "      <td>0</td>\n",
              "      <td>0</td>\n",
              "      <td>0</td>\n",
              "      <td>0</td>\n",
              "      <td>0</td>\n",
              "      <td>0</td>\n",
              "      <td>0</td>\n",
              "      <td>0</td>\n",
              "      <td>0</td>\n",
              "      <td>0</td>\n",
              "      <td>0</td>\n",
              "      <td>0</td>\n",
              "      <td>0</td>\n",
              "      <td>0</td>\n",
              "      <td>0</td>\n",
              "      <td>0</td>\n",
              "      <td>0</td>\n",
              "      <td>0</td>\n",
              "      <td>0</td>\n",
              "      <td>0</td>\n",
              "      <td>...</td>\n",
              "      <td>0</td>\n",
              "      <td>0</td>\n",
              "      <td>0</td>\n",
              "      <td>0</td>\n",
              "      <td>0</td>\n",
              "      <td>0</td>\n",
              "      <td>0</td>\n",
              "      <td>0</td>\n",
              "      <td>0</td>\n",
              "      <td>0</td>\n",
              "      <td>0</td>\n",
              "      <td>0</td>\n",
              "      <td>0</td>\n",
              "      <td>0</td>\n",
              "      <td>0</td>\n",
              "      <td>0</td>\n",
              "      <td>0</td>\n",
              "      <td>0</td>\n",
              "      <td>0</td>\n",
              "      <td>0</td>\n",
              "      <td>0</td>\n",
              "      <td>0</td>\n",
              "      <td>0</td>\n",
              "      <td>0</td>\n",
              "      <td>0</td>\n",
              "      <td>0</td>\n",
              "      <td>0</td>\n",
              "      <td>0</td>\n",
              "      <td>0</td>\n",
              "      <td>0</td>\n",
              "      <td>0</td>\n",
              "      <td>0</td>\n",
              "      <td>0</td>\n",
              "      <td>0</td>\n",
              "      <td>0</td>\n",
              "      <td>0</td>\n",
              "      <td>0</td>\n",
              "      <td>0</td>\n",
              "      <td>0</td>\n",
              "      <td>Bulbasaur</td>\n",
              "    </tr>\n",
              "  </tbody>\n",
              "</table>\n",
              "<p>5 rows × 30001 columns</p>\n",
              "</div>"
            ],
            "text/plain": [
              "     0    1    2    3    4    5  ...  29995  29996  29997  29998  29999      target\n",
              "0   37  106  111   37  106  111  ...    106    111     37    106    111  Charmander\n",
              "1  255  255  255  255  255  255  ...    255    255    255    255    255  Charmander\n",
              "2  103  244   68   91  234   60  ...    218     53    123    255     74     Pikachu\n",
              "3  255  255  255  255  255  255  ...    255    255    255    255    255     Pikachu\n",
              "4    0    0    0    0    0    0  ...      0      0      0      0      0   Bulbasaur\n",
              "\n",
              "[5 rows x 30001 columns]"
            ]
          },
          "metadata": {
            "tags": []
          },
          "execution_count": 5
        }
      ]
    },
    {
      "cell_type": "code",
      "metadata": {
        "colab": {
          "base_uri": "https://localhost:8080/"
        },
        "id": "aezSb5BSLfQc",
        "outputId": "ad85ca05-2e82-4a12-e815-d61474641769"
      },
      "source": [
        "pokemon.isnull().sum()"
      ],
      "execution_count": 6,
      "outputs": [
        {
          "output_type": "execute_result",
          "data": {
            "text/plain": [
              "0         0\n",
              "1         0\n",
              "2         0\n",
              "3         0\n",
              "4         0\n",
              "         ..\n",
              "29996     0\n",
              "29997     0\n",
              "29998     0\n",
              "29999     0\n",
              "target    0\n",
              "Length: 30001, dtype: int64"
            ]
          },
          "metadata": {
            "tags": []
          },
          "execution_count": 6
        }
      ]
    },
    {
      "cell_type": "code",
      "metadata": {
        "colab": {
          "base_uri": "https://localhost:8080/",
          "height": 304
        },
        "id": "L4qnLw6JLq0n",
        "outputId": "ced1fab4-8f24-47f7-cdd6-3f87be7704ed"
      },
      "source": [
        "sns.heatmap(pokemon.isnull(), yticklabels=False, cbar=False, cmap=\"viridis\")"
      ],
      "execution_count": 7,
      "outputs": [
        {
          "output_type": "execute_result",
          "data": {
            "text/plain": [
              "<matplotlib.axes._subplots.AxesSubplot at 0x7fc691dd1410>"
            ]
          },
          "metadata": {
            "tags": []
          },
          "execution_count": 7
        },
        {
          "output_type": "display_data",
          "data": {
            "image/png": "[encoded data removed]",
            "text/plain": [
              "<Figure size 432x288 with 1 Axes>"
            ]
          },
          "metadata": {
            "tags": [],
            "needs_background": "light"
          }
        }
      ]
    },
    {
      "cell_type": "code",
      "metadata": {
        "id": "Nq4sncoyMRcn"
      },
      "source": [
        "y = pokemon['target'].values\n",
        "x = pokemon.drop(columns=['target'], inplace=False).values"
      ],
      "execution_count": null,
      "outputs": []
    },
    {
      "cell_type": "code",
      "metadata": {
        "colab": {
          "base_uri": "https://localhost:8080/"
        },
        "id": "o2S7qsUdM1na",
        "outputId": "f9327b5b-4943-446c-cf62-290a0a6ec8c8"
      },
      "source": [
        "y.shape"
      ],
      "execution_count": null,
      "outputs": [
        {
          "output_type": "execute_result",
          "data": {
            "text/plain": [
              "(304,)"
            ]
          },
          "metadata": {
            "tags": []
          },
          "execution_count": 11
        }
      ]
    },
    {
      "cell_type": "code",
      "metadata": {
        "colab": {
          "base_uri": "https://localhost:8080/"
        },
        "id": "4lZZbfNNM7Vz",
        "outputId": "b124ce4d-eeb5-4393-eef6-800b1ab4d0b5"
      },
      "source": [
        "x.shape"
      ],
      "execution_count": null,
      "outputs": [
        {
          "output_type": "execute_result",
          "data": {
            "text/plain": [
              "(304, 30000)"
            ]
          },
          "metadata": {
            "tags": []
          },
          "execution_count": 12
        }
      ]
    },
    {
      "cell_type": "code",
      "metadata": {
        "colab": {
          "base_uri": "https://localhost:8080/",
          "height": 285
        },
        "id": "caF7kowTM--c",
        "outputId": "c2dc80ff-cb7a-4031-ed18-a191513b4a74"
      },
      "source": [
        "plt.imshow(x[20].reshape(100,100,3),cmap=\"gray\")"
      ],
      "execution_count": null,
      "outputs": [
        {
          "output_type": "execute_result",
          "data": {
            "text/plain": [
              "<matplotlib.image.AxesImage at 0x7f83cc4c9fd0>"
            ]
          },
          "metadata": {
            "tags": []
          },
          "execution_count": 13
        },
        {
          "output_type": "display_data",
          "data": {
            "image/png": "[encoded data removed]",
            "text/plain": [
              "<Figure size 432x288 with 1 Axes>"
            ]
          },
          "metadata": {
            "tags": [],
            "needs_background": "light"
          }
        }
      ]
    },
    {
      "cell_type": "code",
      "metadata": {
        "id": "eCwOlLqNN13x"
      },
      "source": [
        "from sklearn.model_selection import train_test_split"
      ],
      "execution_count": null,
      "outputs": []
    },
    {
      "cell_type": "code",
      "metadata": {
        "id": "pZQ0SP2iOAff"
      },
      "source": [
        "x_train , x_test, y_train ,y_test = train_test_split(x,y, test_size = 0.25, random_state=5)"
      ],
      "execution_count": null,
      "outputs": []
    },
    {
      "cell_type": "code",
      "metadata": {
        "colab": {
          "base_uri": "https://localhost:8080/"
        },
        "id": "zS1NN6_oO3l-",
        "outputId": "7b49e654-1fac-491e-e136-5c84eadab875"
      },
      "source": [
        "print(x_train.shape, y_train.shape)"
      ],
      "execution_count": null,
      "outputs": [
        {
          "output_type": "stream",
          "text": [
            "(228, 30000) (228,)\n"
          ],
          "name": "stdout"
        }
      ]
    },
    {
      "cell_type": "code",
      "metadata": {
        "colab": {
          "base_uri": "https://localhost:8080/"
        },
        "id": "u-M7UzmsPBZ6",
        "outputId": "1c68de35-1488-481a-dcf2-e7d91a7f68ad"
      },
      "source": [
        "print(x_test.shape, y_test.shape)"
      ],
      "execution_count": null,
      "outputs": [
        {
          "output_type": "stream",
          "text": [
            "(76, 30000) (76,)\n"
          ],
          "name": "stdout"
        }
      ]
    },
    {
      "cell_type": "markdown",
      "metadata": {
        "id": "ByT2FdbK-Xec"
      },
      "source": [
        "KNN ALGORITHM"
      ]
    },
    {
      "cell_type": "code",
      "metadata": {
        "id": "2GiW6BKSPHLh"
      },
      "source": [
        "from sklearn.neighbors import KNeighborsClassifier"
      ],
      "execution_count": null,
      "outputs": []
    },
    {
      "cell_type": "code",
      "metadata": {
        "id": "6xBEDYzVPXIM"
      },
      "source": [
        "model= KNeighborsClassifier(n_neighbors=16)"
      ],
      "execution_count": null,
      "outputs": []
    },
    {
      "cell_type": "code",
      "metadata": {
        "colab": {
          "base_uri": "https://localhost:8080/"
        },
        "id": "DXFdmBp1PeIF",
        "outputId": "fac520ca-54c0-46dc-ece1-f03f0e65be51"
      },
      "source": [
        "model.fit(x_train, y_train)"
      ],
      "execution_count": null,
      "outputs": [
        {
          "output_type": "execute_result",
          "data": {
            "text/plain": [
              "KNeighborsClassifier(algorithm='auto', leaf_size=30, metric='minkowski',\n",
              "                     metric_params=None, n_jobs=None, n_neighbors=16, p=2,\n",
              "                     weights='uniform')"
            ]
          },
          "metadata": {
            "tags": []
          },
          "execution_count": 41
        }
      ]
    },
    {
      "cell_type": "code",
      "metadata": {
        "id": "n5LwSernPp3C"
      },
      "source": [
        "y_pred= model.predict(x_test)"
      ],
      "execution_count": null,
      "outputs": []
    },
    {
      "cell_type": "code",
      "metadata": {
        "colab": {
          "base_uri": "https://localhost:8080/"
        },
        "id": "KhaiAE1hP5Pf",
        "outputId": "5493ebb4-1bd8-4e66-94a6-a22280c45cfd"
      },
      "source": [
        "y_pred"
      ],
      "execution_count": null,
      "outputs": [
        {
          "output_type": "execute_result",
          "data": {
            "text/plain": [
              "array(['Charmander', 'Charmander', 'Pikachu', 'Bulbasaur', 'Pikachu',\n",
              "       'Bulbasaur', 'Bulbasaur', 'Bulbasaur', 'Charmander', 'Pikachu',\n",
              "       'Charmander', 'Bulbasaur', 'Bulbasaur', 'Bulbasaur', 'Bulbasaur',\n",
              "       'Bulbasaur', 'Pikachu', 'Charmander', 'Bulbasaur', 'Bulbasaur',\n",
              "       'Pikachu', 'Bulbasaur', 'Charmander', 'Pikachu', 'Charmander',\n",
              "       'Bulbasaur', 'Bulbasaur', 'Bulbasaur', 'Bulbasaur', 'Pikachu',\n",
              "       'Charmander', 'Charmander', 'Charmander', 'Bulbasaur', 'Pikachu',\n",
              "       'Pikachu', 'Bulbasaur', 'Charmander', 'Bulbasaur', 'Bulbasaur',\n",
              "       'Pikachu', 'Pikachu', 'Bulbasaur', 'Charmander', 'Bulbasaur',\n",
              "       'Charmander', 'Bulbasaur', 'Charmander', 'Pikachu', 'Charmander',\n",
              "       'Bulbasaur', 'Bulbasaur', 'Charmander', 'Pikachu', 'Charmander',\n",
              "       'Bulbasaur', 'Pikachu', 'Bulbasaur', 'Pikachu', 'Charmander',\n",
              "       'Bulbasaur', 'Charmander', 'Pikachu', 'Bulbasaur', 'Pikachu',\n",
              "       'Pikachu', 'Bulbasaur', 'Bulbasaur', 'Bulbasaur', 'Bulbasaur',\n",
              "       'Bulbasaur', 'Pikachu', 'Pikachu', 'Bulbasaur', 'Bulbasaur',\n",
              "       'Pikachu', 'Charmander', 'Pikachu', 'Charmander', 'Charmander',\n",
              "       'Bulbasaur', 'Bulbasaur', 'Charmander', 'Bulbasaur', 'Pikachu',\n",
              "       'Bulbasaur', 'Bulbasaur', 'Charmander', 'Bulbasaur', 'Charmander',\n",
              "       'Bulbasaur', 'Bulbasaur', 'Bulbasaur', 'Charmander', 'Bulbasaur',\n",
              "       'Bulbasaur', 'Pikachu', 'Charmander', 'Pikachu', 'Pikachu',\n",
              "       'Charmander', 'Pikachu', 'Charmander', 'Charmander', 'Charmander',\n",
              "       'Charmander', 'Pikachu', 'Pikachu', 'Charmander', 'Charmander',\n",
              "       'Bulbasaur', 'Charmander', 'Bulbasaur', 'Bulbasaur', 'Charmander',\n",
              "       'Bulbasaur', 'Bulbasaur', 'Bulbasaur', 'Pikachu', 'Bulbasaur',\n",
              "       'Pikachu', 'Pikachu', 'Charmander', 'Pikachu', 'Bulbasaur',\n",
              "       'Charmander', 'Charmander', 'Pikachu', 'Charmander', 'Pikachu',\n",
              "       'Pikachu', 'Pikachu', 'Charmander', 'Bulbasaur', 'Charmander',\n",
              "       'Bulbasaur', 'Bulbasaur', 'Charmander', 'Bulbasaur', 'Charmander',\n",
              "       'Bulbasaur', 'Bulbasaur', 'Bulbasaur', 'Pikachu', 'Bulbasaur',\n",
              "       'Pikachu', 'Pikachu', 'Pikachu', 'Bulbasaur', 'Pikachu', 'Pikachu',\n",
              "       'Pikachu', 'Charmander', 'Bulbasaur', 'Charmander', 'Pikachu',\n",
              "       'Bulbasaur', 'Charmander', 'Charmander', 'Bulbasaur', 'Charmander',\n",
              "       'Charmander', 'Bulbasaur', 'Pikachu', 'Bulbasaur', 'Bulbasaur',\n",
              "       'Charmander', 'Bulbasaur', 'Bulbasaur', 'Pikachu', 'Charmander',\n",
              "       'Bulbasaur', 'Bulbasaur', 'Pikachu', 'Charmander', 'Charmander',\n",
              "       'Charmander', 'Bulbasaur', 'Charmander', 'Charmander', 'Bulbasaur',\n",
              "       'Charmander', 'Charmander', 'Pikachu', 'Bulbasaur', 'Bulbasaur',\n",
              "       'Charmander', 'Bulbasaur', 'Bulbasaur', 'Bulbasaur', 'Pikachu',\n",
              "       'Pikachu', 'Pikachu', 'Bulbasaur', 'Charmander', 'Pikachu',\n",
              "       'Bulbasaur', 'Pikachu', 'Bulbasaur', 'Bulbasaur', 'Bulbasaur',\n",
              "       'Pikachu', 'Bulbasaur', 'Pikachu', 'Charmander', 'Bulbasaur',\n",
              "       'Charmander', 'Pikachu', 'Charmander', 'Bulbasaur', 'Pikachu',\n",
              "       'Bulbasaur', 'Bulbasaur', 'Bulbasaur', 'Bulbasaur', 'Pikachu',\n",
              "       'Bulbasaur', 'Charmander', 'Pikachu', 'Bulbasaur', 'Pikachu',\n",
              "       'Bulbasaur', 'Bulbasaur', 'Bulbasaur', 'Charmander', 'Bulbasaur',\n",
              "       'Bulbasaur', 'Bulbasaur'], dtype=object)"
            ]
          },
          "metadata": {
            "tags": []
          },
          "execution_count": 22
        }
      ]
    },
    {
      "cell_type": "code",
      "metadata": {
        "colab": {
          "base_uri": "https://localhost:8080/"
        },
        "id": "ht0zdgqEQFD0",
        "outputId": "ba39d41f-273a-44b2-f458-047198dc9956"
      },
      "source": [
        "model.score(x_test, y_test)"
      ],
      "execution_count": null,
      "outputs": [
        {
          "output_type": "execute_result",
          "data": {
            "text/plain": [
              "0.868421052631579"
            ]
          },
          "metadata": {
            "tags": []
          },
          "execution_count": 43
        }
      ]
    },
    {
      "cell_type": "code",
      "metadata": {
        "id": "KIKZPkYRQRS7"
      },
      "source": [
        "random_image=x_test[38]"
      ],
      "execution_count": null,
      "outputs": []
    },
    {
      "cell_type": "code",
      "metadata": {
        "colab": {
          "base_uri": "https://localhost:8080/",
          "height": 35
        },
        "id": "RvyiKEX1QWcZ",
        "outputId": "cb5bb578-576d-4ece-8bfd-9c51c88e4e2f"
      },
      "source": [
        "y_test[38]"
      ],
      "execution_count": null,
      "outputs": [
        {
          "output_type": "execute_result",
          "data": {
            "application/vnd.google.colaboratory.intrinsic+json": {
              "type": "string"
            },
            "text/plain": [
              "'Bulbasaur'"
            ]
          },
          "metadata": {
            "tags": []
          },
          "execution_count": 25
        }
      ]
    },
    {
      "cell_type": "code",
      "metadata": {
        "colab": {
          "base_uri": "https://localhost:8080/",
          "height": 285
        },
        "id": "EBknharrQamk",
        "outputId": "aff5d27d-1029-4159-f6fb-016041620a89"
      },
      "source": [
        "plt.imshow(x_test[38].reshape(100,100,3),cmap=\"gray\")"
      ],
      "execution_count": null,
      "outputs": [
        {
          "output_type": "execute_result",
          "data": {
            "text/plain": [
              "<matplotlib.image.AxesImage at 0x7f83cb9d2a50>"
            ]
          },
          "metadata": {
            "tags": []
          },
          "execution_count": 26
        },
        {
          "output_type": "display_data",
          "data": {
            "image/png": "[encoded data removed]",
            "text/plain": [
              "<Figure size 432x288 with 1 Axes>"
            ]
          },
          "metadata": {
            "tags": [],
            "needs_background": "light"
          }
        }
      ]
    },
    {
      "cell_type": "code",
      "metadata": {
        "colab": {
          "base_uri": "https://localhost:8080/"
        },
        "id": "Z23aeOBIQq4A",
        "outputId": "e9f40705-74b6-4109-dab5-6e15ac6730ef"
      },
      "source": [
        "model.predict([random_image])"
      ],
      "execution_count": null,
      "outputs": [
        {
          "output_type": "execute_result",
          "data": {
            "text/plain": [
              "array(['Bulbasaur'], dtype=object)"
            ]
          },
          "metadata": {
            "tags": []
          },
          "execution_count": 27
        }
      ]
    },
    {
      "cell_type": "code",
      "metadata": {
        "id": "JO_FIdjnRBwL"
      },
      "source": [
        "random=x_test[42]"
      ],
      "execution_count": null,
      "outputs": []
    },
    {
      "cell_type": "code",
      "metadata": {
        "colab": {
          "base_uri": "https://localhost:8080/"
        },
        "id": "CsdmsTpNRJBG",
        "outputId": "a17318cd-7bce-464e-9429-69851d9769e1"
      },
      "source": [
        "model.predict([random])"
      ],
      "execution_count": null,
      "outputs": [
        {
          "output_type": "execute_result",
          "data": {
            "text/plain": [
              "array(['Charmander'], dtype=object)"
            ]
          },
          "metadata": {
            "tags": []
          },
          "execution_count": 71
        }
      ]
    },
    {
      "cell_type": "code",
      "metadata": {
        "colab": {
          "base_uri": "https://localhost:8080/",
          "height": 35
        },
        "id": "lS6wkEckRRVF",
        "outputId": "631fa5af-64f9-4c49-8f5d-251195c6e597"
      },
      "source": [
        "y_test[42]"
      ],
      "execution_count": null,
      "outputs": [
        {
          "output_type": "execute_result",
          "data": {
            "application/vnd.google.colaboratory.intrinsic+json": {
              "type": "string"
            },
            "text/plain": [
              "'Charmander'"
            ]
          },
          "metadata": {
            "tags": []
          },
          "execution_count": 73
        }
      ]
    },
    {
      "cell_type": "code",
      "metadata": {
        "colab": {
          "base_uri": "https://localhost:8080/",
          "height": 285
        },
        "id": "MY2DZsg8RVcv",
        "outputId": "984e744e-284e-4a10-8177-df7c99c8498f"
      },
      "source": [
        "plt.imshow(x[42].reshape(100,100,3),cmap=\"gray\")"
      ],
      "execution_count": null,
      "outputs": [
        {
          "output_type": "execute_result",
          "data": {
            "text/plain": [
              "<matplotlib.image.AxesImage at 0x7f2b93d15b50>"
            ]
          },
          "metadata": {
            "tags": []
          },
          "execution_count": 75
        },
        {
          "output_type": "display_data",
          "data": {
            "image/png": "[encoded data removed]",
            "text/plain": [
              "<Figure size 432x288 with 1 Axes>"
            ]
          },
          "metadata": {
            "tags": [],
            "needs_background": "light"
          }
        }
      ]
    },
    {
      "cell_type": "markdown",
      "metadata": {
        "id": "JOTHwnRy-rKj"
      },
      "source": [
        "LOGISTIC REGRESSION ALGORITHM"
      ]
    },
    {
      "cell_type": "code",
      "metadata": {
        "id": "g8UWeHaS-wx6"
      },
      "source": [
        "from sklearn.linear_model import LogisticRegression"
      ],
      "execution_count": null,
      "outputs": []
    },
    {
      "cell_type": "code",
      "metadata": {
        "id": "AwBditQp_0oy"
      },
      "source": [
        "model = LogisticRegression()"
      ],
      "execution_count": null,
      "outputs": []
    },
    {
      "cell_type": "code",
      "metadata": {
        "colab": {
          "base_uri": "https://localhost:8080/"
        },
        "id": "EuuXWzRE_7NV",
        "outputId": "1013e4cc-c21d-42bb-dced-68493c38914f"
      },
      "source": [
        "model.fit(x_train , y_train, sample_weight=None)"
      ],
      "execution_count": null,
      "outputs": [
        {
          "output_type": "stream",
          "text": [
            "/usr/local/lib/python3.7/dist-packages/sklearn/linear_model/_logistic.py:940: ConvergenceWarning: lbfgs failed to converge (status=1):\n",
            "STOP: TOTAL NO. of ITERATIONS REACHED LIMIT.\n",
            "\n",
            "Increase the number of iterations (max_iter) or scale the data as shown in:\n",
            "    https://scikit-learn.org/stable/modules/preprocessing.html\n",
            "Please also refer to the documentation for alternative solver options:\n",
            "    https://scikit-learn.org/stable/modules/linear_model.html#logistic-regression\n",
            "  extra_warning_msg=_LOGISTIC_SOLVER_CONVERGENCE_MSG)\n"
          ],
          "name": "stderr"
        },
        {
          "output_type": "execute_result",
          "data": {
            "text/plain": [
              "LogisticRegression(C=1.0, class_weight=None, dual=False, fit_intercept=True,\n",
              "                   intercept_scaling=1, l1_ratio=None, max_iter=100,\n",
              "                   multi_class='auto', n_jobs=None, penalty='l2',\n",
              "                   random_state=None, solver='lbfgs', tol=0.0001, verbose=0,\n",
              "                   warm_start=False)"
            ]
          },
          "metadata": {
            "tags": []
          },
          "execution_count": 66
        }
      ]
    },
    {
      "cell_type": "code",
      "metadata": {
        "id": "H2IckvYYAEfZ"
      },
      "source": [
        "y_pred= model.predict(x_test)"
      ],
      "execution_count": null,
      "outputs": []
    },
    {
      "cell_type": "code",
      "metadata": {
        "colab": {
          "base_uri": "https://localhost:8080/"
        },
        "id": "QnNq-Pv8AQLs",
        "outputId": "aba1d95d-961c-451d-85ef-166a03a9800c"
      },
      "source": [
        "model.score(x_test, y_test)"
      ],
      "execution_count": null,
      "outputs": [
        {
          "output_type": "execute_result",
          "data": {
            "text/plain": [
              "0.9473684210526315"
            ]
          },
          "metadata": {
            "tags": []
          },
          "execution_count": 68
        }
      ]
    }
  ]
}